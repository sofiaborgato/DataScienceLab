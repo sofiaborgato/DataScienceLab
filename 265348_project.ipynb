{
  "nbformat": 4,
  "nbformat_minor": 0,
  "metadata": {
    "kernelspec": {
      "display_name": "Python 3",
      "language": "python",
      "name": "python3"
    },
    "language_info": {
      "codemirror_mode": {
        "name": "ipython",
        "version": 3
      },
      "file_extension": ".py",
      "mimetype": "text/x-python",
      "name": "python",
      "nbconvert_exporter": "python",
      "pygments_lexer": "ipython3",
      "version": "3.8.2"
    },
    "colab": {
      "name": "265348_project.ipynb",
      "provenance": [],
      "include_colab_link": true
    }
  },
  "cells": [
    {
      "cell_type": "markdown",
      "metadata": {
        "id": "view-in-github",
        "colab_type": "text"
      },
      "source": [
        "<a href=\"https://colab.research.google.com/github/sofiaborgato/DataScienceLab/blob/master/265348_project.ipynb\" target=\"_parent\"><img src=\"https://colab.research.google.com/assets/colab-badge.svg\" alt=\"Open In Colab\"/></a>"
      ]
    },
    {
      "cell_type": "code",
      "metadata": {
        "id": "bcalf1JfgRTG"
      },
      "source": [
        "import os\n",
        "import wave as w\n",
        "import scipy.io as sio\n",
        "from scipy.io import wavfile\n",
        "import numpy as np\n",
        "import matplotlib.pyplot as plt \n",
        "import scipy.signal as ss\n",
        "import librosa.display \n",
        "import librosa\n",
        "import IPython.display as ipd\n",
        "from sklearn.preprocessing import LabelEncoder\n",
        "import pandas as pd\n",
        "from sklearn.model_selection import train_test_split\n",
        "from sklearn.ensemble import RandomForestRegressor\n",
        "from sklearn import metrics\n",
        "from sklearn.ensemble import RandomForestClassifier\n",
        "import collections\n",
        "from sklearn.decomposition import PCA\n",
        "import matplotlib.pyplot as plt\n",
        "from sklearn import preprocessing\n",
        "from sklearn.linear_model import SGDClassifier\n",
        "from sklearn.linear_model import LogisticRegression\n",
        "from scipy.io import wavfile\n",
        "from scipy.fftpack import fft\n",
        "import csv\n",
        "from pysndfx import AudioEffectsChain\n",
        "import numpy as np\n",
        "import math\n",
        "import python_speech_features\n",
        "import scipy as sp\n",
        "from scipy import signal\n",
        "import sox\n",
        "from sklearn.ensemble import IsolationForest\n",
        "from sklearn.preprocessing import StandardScaler\n",
        "from scipy.stats import zscore\n",
        "import seaborn as sns\n",
        "import matplotlib.pyplot as plt\n",
        "from sklearn.preprocessing import RobustScaler\n",
        "from sklearn.preprocessing import PowerTransformer\n",
        "from sklearn.preprocessing import Normalizer\n",
        "from sklearn.neighbors import LocalOutlierFactor\n",
        "from sklearn.covariance import EllipticEnvelope\n",
        "from sklearn.metrics import classification_report\n",
        "from sklearn.model_selection import GridSearchCV\n",
        "from sklearn.feature_selection import SelectKBest"
      ],
      "execution_count": null,
      "outputs": []
    },
    {
      "cell_type": "code",
      "metadata": {
        "id": "D1ZvnhdegRTL",
        "outputId": "bac865ed-c696-4beb-b81b-0e64cd9a156a"
      },
      "source": [
        "headers=np.array([])\n",
        "feature_df=pd.DataFrame(columns=headers)\n",
        "eval_df=pd.DataFrame(columns=headers)\n",
        "mfcc_chroma_header=np.array([])\n",
        "mfcc_header=np.array([])\n",
        "\n",
        "headers_nolabel=np.array([])\n",
        "val=np.array([])\n",
        "for i in range (0,40):\n",
        "    headers=np.append(headers,\"mfccs\"+str(i+1)) \n",
        "    mfcc_chroma_header=np.append(mfcc_chroma_header,\"mfccs\"+str(i+1))\n",
        "    headers_nolabel=np.append(headers_nolabel,\"mfccs\"+str(i+1))\n",
        "mfcc_header=headers\n",
        "for i in range(0,12):\n",
        "    headers=np.append(headers,\"chroma\"+str(i+1)) \n",
        "    mfcc_chroma_header=np.append(mfcc_chroma_header,\"chroma\"+str(i+1))\n",
        "    headers_nolabel=np.append(headers_nolabel,\"chroma\"+str(i+1))\n",
        "headers=np.append(headers,\"zero_crossing\")\n",
        "headers_nolabel=np.append(headers_nolabel,\"zero_crossing\")\n",
        "headers=np.append(headers,\"spectral_bandwidth\")\n",
        "headers_nolabel=np.append(headers_nolabel,\"spectral_bandwidth\")\n",
        "headers=np.append(headers,\"spectral_centroids\")\n",
        "headers_nolabel=np.append(headers_nolabel,\"spectral_centroids\")\n",
        "headers=np.append(headers,\"roll_off\")\n",
        "headers_nolabel=np.append(headers_nolabel,\"roll_off\")\n",
        "\n",
        "headers=np.append(headers,\"label\")\n",
        "\n",
        "\n",
        "\n",
        "val=headers_nolabel\n",
        "val=np.append(val,\"id\")\n",
        "print(val)\n",
        "print(headers_nolabel)\n",
        "feature_df=pd.DataFrame(columns=headers)\n",
        "df_eval=pd.DataFrame(columns=val)\n",
        "print(mfcc_chroma_header)"
      ],
      "execution_count": null,
      "outputs": [
        {
          "output_type": "stream",
          "text": [
            "['mfccs1' 'mfccs2' 'mfccs3' 'mfccs4' 'mfccs5' 'mfccs6' 'mfccs7' 'mfccs8'\n",
            " 'mfccs9' 'mfccs10' 'mfccs11' 'mfccs12' 'mfccs13' 'mfccs14' 'mfccs15'\n",
            " 'mfccs16' 'mfccs17' 'mfccs18' 'mfccs19' 'mfccs20' 'mfccs21' 'mfccs22'\n",
            " 'mfccs23' 'mfccs24' 'mfccs25' 'mfccs26' 'mfccs27' 'mfccs28' 'mfccs29'\n",
            " 'mfccs30' 'mfccs31' 'mfccs32' 'mfccs33' 'mfccs34' 'mfccs35' 'mfccs36'\n",
            " 'mfccs37' 'mfccs38' 'mfccs39' 'mfccs40' 'chroma1' 'chroma2' 'chroma3'\n",
            " 'chroma4' 'chroma5' 'chroma6' 'chroma7' 'chroma8' 'chroma9' 'chroma10'\n",
            " 'chroma11' 'chroma12' 'zero_crossing' 'spectral_bandwidth'\n",
            " 'spectral_centroids' 'roll_off' 'id']\n",
            "['mfccs1' 'mfccs2' 'mfccs3' 'mfccs4' 'mfccs5' 'mfccs6' 'mfccs7' 'mfccs8'\n",
            " 'mfccs9' 'mfccs10' 'mfccs11' 'mfccs12' 'mfccs13' 'mfccs14' 'mfccs15'\n",
            " 'mfccs16' 'mfccs17' 'mfccs18' 'mfccs19' 'mfccs20' 'mfccs21' 'mfccs22'\n",
            " 'mfccs23' 'mfccs24' 'mfccs25' 'mfccs26' 'mfccs27' 'mfccs28' 'mfccs29'\n",
            " 'mfccs30' 'mfccs31' 'mfccs32' 'mfccs33' 'mfccs34' 'mfccs35' 'mfccs36'\n",
            " 'mfccs37' 'mfccs38' 'mfccs39' 'mfccs40' 'chroma1' 'chroma2' 'chroma3'\n",
            " 'chroma4' 'chroma5' 'chroma6' 'chroma7' 'chroma8' 'chroma9' 'chroma10'\n",
            " 'chroma11' 'chroma12' 'zero_crossing' 'spectral_bandwidth'\n",
            " 'spectral_centroids' 'roll_off']\n",
            "['mfccs1' 'mfccs2' 'mfccs3' 'mfccs4' 'mfccs5' 'mfccs6' 'mfccs7' 'mfccs8'\n",
            " 'mfccs9' 'mfccs10' 'mfccs11' 'mfccs12' 'mfccs13' 'mfccs14' 'mfccs15'\n",
            " 'mfccs16' 'mfccs17' 'mfccs18' 'mfccs19' 'mfccs20' 'mfccs21' 'mfccs22'\n",
            " 'mfccs23' 'mfccs24' 'mfccs25' 'mfccs26' 'mfccs27' 'mfccs28' 'mfccs29'\n",
            " 'mfccs30' 'mfccs31' 'mfccs32' 'mfccs33' 'mfccs34' 'mfccs35' 'mfccs36'\n",
            " 'mfccs37' 'mfccs38' 'mfccs39' 'mfccs40' 'chroma1' 'chroma2' 'chroma3'\n",
            " 'chroma4' 'chroma5' 'chroma6' 'chroma7' 'chroma8' 'chroma9' 'chroma10'\n",
            " 'chroma11' 'chroma12']\n"
          ],
          "name": "stdout"
        }
      ]
    },
    {
      "cell_type": "code",
      "metadata": {
        "id": "xEv7fINFgRTR"
      },
      "source": [
        "\n",
        "pathdev=\"/home/caprino/Desktop/DataScienceLab/development\"\n",
        "patheval=\"/home/caprino/Desktop/DataScienceLab/evaluation\"\n",
        "\n",
        "\n",
        "for folder in os.listdir(pathdev):\n",
        "    print(pathdev)\n",
        "    new_path = \"/home/caprino/Desktop/DataScienceLab/development/\" +folder\n",
        "    \n",
        "    for file in os.listdir(new_path):\n",
        "        name = file.split(\".\")[0]\n",
        "        data,sample_rate=librosa.load(new_path + \"/\" + file)\n",
        "        chromagram = np.mean(librosa.feature.chroma_stft(data, sr = sample_rate).T,axis = 0)\n",
        "        zero_crossings = np.sum(librosa.zero_crossings(data, pad=False), axis = 0)\n",
        "        spectral_bandwidth = np.mean(librosa.feature.spectral_bandwidth(data, sr = sample_rate).T, axis = 0)\n",
        "        spectral_centroids = np.mean(librosa.feature.spectral_centroid(data, sr = sample_rate).T, axis = 0)\n",
        "        S, phase = librosa.magphase(librosa.stft(data))\n",
        "        rolloff = np.mean(librosa.feature.spectral_rolloff(S = S, sr = sample_rate).T, axis = 0)\n",
        "        mfccs=np.mean(librosa.feature.mfcc(y=data,sr=sample_rate,n_mfcc=40).T ,axis=0)\n",
        "        \n",
        "        chroma=librosa.feature.chroma_stft(y=data,sr=sample_rate)\n",
        "        sample_rate,data=wavfile.read(new_path + \"/\" + file)\n",
        "        \n",
        "        \n",
        "        feature=np.hstack((mfccs,chromagram,zero_crossings,spectral_bandwidth,spectral_centroids,rolloff,folder)).reshape(1,57)\n",
        "        feature_df=feature_df.append(pd.DataFrame(feature,columns=headers))\n",
        "        \n",
        "        \n",
        "        \n"
      ],
      "execution_count": null,
      "outputs": []
    },
    {
      "cell_type": "code",
      "metadata": {
        "id": "R7XMxeV7gRTW"
      },
      "source": [
        "#EvalData\n",
        "patheval=\"/home/caprino/Desktop/DataScienceLab/evaluation\"\n",
        "for file_name in os.listdir(patheval):\n",
        "    new_path_eval=\"/home/caprino/Desktop/DataScienceLab/evaluation/\"+file_name\n",
        "    name= file_name.split(\".\")[0]\n",
        "    data,sample_rate=librosa.load(new_path_eval)\n",
        "    chromagram = np.mean(librosa.feature.chroma_stft(data, sr = sample_rate).T,axis = 0)\n",
        "    zero_crossings = np.sum(librosa.zero_crossings(data, pad=False), axis = 0)\n",
        "    spectral_bandwidth = np.mean(librosa.feature.spectral_bandwidth(data, sr = sample_rate).T, axis = 0)\n",
        "    spectral_centroids = np.mean(librosa.feature.spectral_centroid(data, sr = sample_rate).T, axis = 0)\n",
        "    S, phase = librosa.magphase(librosa.stft(data))\n",
        "    rolloff = np.mean(librosa.feature.spectral_rolloff(S = S, sr = sample_rate).T, axis = 0)\n",
        "    mfccs=np.mean(librosa.feature.mfcc(y=data,sr=sample_rate,n_mfcc=40).T ,axis=0)\n",
        "    chroma=librosa.feature.chroma_stft(y=data,sr=sample_rate)\n",
        "    \n",
        "    feature=np.hstack((mfccs,chromagram,zero_crossings,spectral_bandwidth,spectral_centroids,rolloff,name)).reshape(1,57)\n",
        "    df_eval=df_eval.append(pd.DataFrame(feature,columns=val))\n"
      ],
      "execution_count": null,
      "outputs": []
    },
    {
      "cell_type": "code",
      "metadata": {
        "id": "7AVyv5zSgRTc"
      },
      "source": [
        "#To csv\n",
        "path_csv=\"/home/caprino/Desktop/DataScienceLab/csv\"\n",
        "print(dev_data[0])\n",
        "\n",
        "data=pd.DataFrame(dev_data)\n",
        "data[\"label\"]=dev_label\n",
        "\n"
      ],
      "execution_count": null,
      "outputs": []
    },
    {
      "cell_type": "code",
      "metadata": {
        "id": "hqNA2xzggRTg"
      },
      "source": [
        "#feature_df.to_csv(\"/home/caprino/Desktop/DataScienceLab/csv/FINAL.csv\")\n",
        "df_eval.to_csv(\"/home/caprino/Desktop/DataScienceLab/csv/EVAL_1.csv\")"
      ],
      "execution_count": null,
      "outputs": []
    },
    {
      "cell_type": "code",
      "metadata": {
        "id": "gf6IHZtIgRTk",
        "outputId": "0cdf17da-e9a8-43fb-d3e4-9627eb10e95d"
      },
      "source": [
        "#read from csv\n",
        "\n",
        "path_csv=\"/home/caprino/Desktop/DataScienceLab/csv/FINAL.csv\"\n",
        "df_dev=pd.read_csv(path_csv)    \n",
        "del df_dev['Unnamed: 0']   \n",
        "path_csv_eval=\"/home/caprino/Desktop/DataScienceLab/csv/EVAL_1.csv\"\n",
        "\n",
        "df_eval=pd.read_csv(path_csv_eval)  \n",
        "\n",
        "del df_eval['Unnamed: 0']\n",
        "\n",
        "df_eval.head()\n"
      ],
      "execution_count": null,
      "outputs": [
        {
          "output_type": "execute_result",
          "data": {
            "text/html": [
              "<div>\n",
              "<style scoped>\n",
              "    .dataframe tbody tr th:only-of-type {\n",
              "        vertical-align: middle;\n",
              "    }\n",
              "\n",
              "    .dataframe tbody tr th {\n",
              "        vertical-align: top;\n",
              "    }\n",
              "\n",
              "    .dataframe thead th {\n",
              "        text-align: right;\n",
              "    }\n",
              "</style>\n",
              "<table border=\"1\" class=\"dataframe\">\n",
              "  <thead>\n",
              "    <tr style=\"text-align: right;\">\n",
              "      <th></th>\n",
              "      <th>mfccs1</th>\n",
              "      <th>mfccs2</th>\n",
              "      <th>mfccs3</th>\n",
              "      <th>mfccs4</th>\n",
              "      <th>mfccs5</th>\n",
              "      <th>mfccs6</th>\n",
              "      <th>mfccs7</th>\n",
              "      <th>mfccs8</th>\n",
              "      <th>mfccs9</th>\n",
              "      <th>mfccs10</th>\n",
              "      <th>...</th>\n",
              "      <th>chroma8</th>\n",
              "      <th>chroma9</th>\n",
              "      <th>chroma10</th>\n",
              "      <th>chroma11</th>\n",
              "      <th>chroma12</th>\n",
              "      <th>zero_crossing</th>\n",
              "      <th>spectral_bandwidth</th>\n",
              "      <th>spectral_centroids</th>\n",
              "      <th>roll_off</th>\n",
              "      <th>id</th>\n",
              "    </tr>\n",
              "  </thead>\n",
              "  <tbody>\n",
              "    <tr>\n",
              "      <th>0</th>\n",
              "      <td>-317.88077</td>\n",
              "      <td>95.122826</td>\n",
              "      <td>13.304368</td>\n",
              "      <td>22.820816</td>\n",
              "      <td>20.186580</td>\n",
              "      <td>16.213732</td>\n",
              "      <td>5.515041</td>\n",
              "      <td>6.710335</td>\n",
              "      <td>-3.440964</td>\n",
              "      <td>-1.211509</td>\n",
              "      <td>...</td>\n",
              "      <td>0.248003</td>\n",
              "      <td>0.462112</td>\n",
              "      <td>0.780040</td>\n",
              "      <td>0.642662</td>\n",
              "      <td>0.518696</td>\n",
              "      <td>2727</td>\n",
              "      <td>2551.567973</td>\n",
              "      <td>1896.444306</td>\n",
              "      <td>4531.760476</td>\n",
              "      <td>f71caddf249f66e667379b457a90b50e0357ad149091f8...</td>\n",
              "    </tr>\n",
              "    <tr>\n",
              "      <th>1</th>\n",
              "      <td>-391.06628</td>\n",
              "      <td>44.939890</td>\n",
              "      <td>-4.588459</td>\n",
              "      <td>22.370453</td>\n",
              "      <td>7.971390</td>\n",
              "      <td>8.680753</td>\n",
              "      <td>-1.794312</td>\n",
              "      <td>7.728444</td>\n",
              "      <td>1.960706</td>\n",
              "      <td>4.096737</td>\n",
              "      <td>...</td>\n",
              "      <td>0.416558</td>\n",
              "      <td>0.407479</td>\n",
              "      <td>0.472268</td>\n",
              "      <td>0.612991</td>\n",
              "      <td>0.554580</td>\n",
              "      <td>2216</td>\n",
              "      <td>2941.687834</td>\n",
              "      <td>2970.540715</td>\n",
              "      <td>6612.650923</td>\n",
              "      <td>ff9896aae89b6d7f722283154b24b22e7e026779bc51db...</td>\n",
              "    </tr>\n",
              "    <tr>\n",
              "      <th>2</th>\n",
              "      <td>-283.19092</td>\n",
              "      <td>82.432710</td>\n",
              "      <td>8.451013</td>\n",
              "      <td>7.854715</td>\n",
              "      <td>3.924375</td>\n",
              "      <td>9.795157</td>\n",
              "      <td>-13.672332</td>\n",
              "      <td>-7.079937</td>\n",
              "      <td>-16.401867</td>\n",
              "      <td>-2.586668</td>\n",
              "      <td>...</td>\n",
              "      <td>0.457277</td>\n",
              "      <td>0.559316</td>\n",
              "      <td>0.447596</td>\n",
              "      <td>0.521547</td>\n",
              "      <td>0.702000</td>\n",
              "      <td>3025</td>\n",
              "      <td>2579.817489</td>\n",
              "      <td>2638.123661</td>\n",
              "      <td>5213.482111</td>\n",
              "      <td>deeaecb262e812efc48b06cf3370d2ce60c98d2386590e...</td>\n",
              "    </tr>\n",
              "    <tr>\n",
              "      <th>3</th>\n",
              "      <td>-280.03625</td>\n",
              "      <td>98.271965</td>\n",
              "      <td>-7.650848</td>\n",
              "      <td>21.957516</td>\n",
              "      <td>6.701251</td>\n",
              "      <td>-11.107894</td>\n",
              "      <td>-4.083050</td>\n",
              "      <td>1.936195</td>\n",
              "      <td>-26.172260</td>\n",
              "      <td>-10.708789</td>\n",
              "      <td>...</td>\n",
              "      <td>0.400671</td>\n",
              "      <td>0.383827</td>\n",
              "      <td>0.465903</td>\n",
              "      <td>0.484147</td>\n",
              "      <td>0.351485</td>\n",
              "      <td>2503</td>\n",
              "      <td>2378.484923</td>\n",
              "      <td>2045.745035</td>\n",
              "      <td>4189.186790</td>\n",
              "      <td>97f70bd9bf47744752e30ea7fb7419f1d9c09bc02561b9...</td>\n",
              "    </tr>\n",
              "    <tr>\n",
              "      <th>4</th>\n",
              "      <td>-245.28340</td>\n",
              "      <td>80.378610</td>\n",
              "      <td>-41.711610</td>\n",
              "      <td>13.029464</td>\n",
              "      <td>-0.732371</td>\n",
              "      <td>-27.038532</td>\n",
              "      <td>-10.226423</td>\n",
              "      <td>-9.867496</td>\n",
              "      <td>-40.156040</td>\n",
              "      <td>-4.149104</td>\n",
              "      <td>...</td>\n",
              "      <td>0.352171</td>\n",
              "      <td>0.555669</td>\n",
              "      <td>0.527880</td>\n",
              "      <td>0.269269</td>\n",
              "      <td>0.193265</td>\n",
              "      <td>1572</td>\n",
              "      <td>2116.466918</td>\n",
              "      <td>2168.194727</td>\n",
              "      <td>3649.388539</td>\n",
              "      <td>20c17a9219bed40af357e22d51cdf8d42d665407f88c6f...</td>\n",
              "    </tr>\n",
              "  </tbody>\n",
              "</table>\n",
              "<p>5 rows × 57 columns</p>\n",
              "</div>"
            ],
            "text/plain": [
              "      mfccs1     mfccs2     mfccs3     mfccs4     mfccs5     mfccs6  \\\n",
              "0 -317.88077  95.122826  13.304368  22.820816  20.186580  16.213732   \n",
              "1 -391.06628  44.939890  -4.588459  22.370453   7.971390   8.680753   \n",
              "2 -283.19092  82.432710   8.451013   7.854715   3.924375   9.795157   \n",
              "3 -280.03625  98.271965  -7.650848  21.957516   6.701251 -11.107894   \n",
              "4 -245.28340  80.378610 -41.711610  13.029464  -0.732371 -27.038532   \n",
              "\n",
              "      mfccs7    mfccs8     mfccs9    mfccs10  ...   chroma8   chroma9  \\\n",
              "0   5.515041  6.710335  -3.440964  -1.211509  ...  0.248003  0.462112   \n",
              "1  -1.794312  7.728444   1.960706   4.096737  ...  0.416558  0.407479   \n",
              "2 -13.672332 -7.079937 -16.401867  -2.586668  ...  0.457277  0.559316   \n",
              "3  -4.083050  1.936195 -26.172260 -10.708789  ...  0.400671  0.383827   \n",
              "4 -10.226423 -9.867496 -40.156040  -4.149104  ...  0.352171  0.555669   \n",
              "\n",
              "   chroma10  chroma11  chroma12  zero_crossing  spectral_bandwidth  \\\n",
              "0  0.780040  0.642662  0.518696           2727         2551.567973   \n",
              "1  0.472268  0.612991  0.554580           2216         2941.687834   \n",
              "2  0.447596  0.521547  0.702000           3025         2579.817489   \n",
              "3  0.465903  0.484147  0.351485           2503         2378.484923   \n",
              "4  0.527880  0.269269  0.193265           1572         2116.466918   \n",
              "\n",
              "   spectral_centroids     roll_off  \\\n",
              "0         1896.444306  4531.760476   \n",
              "1         2970.540715  6612.650923   \n",
              "2         2638.123661  5213.482111   \n",
              "3         2045.745035  4189.186790   \n",
              "4         2168.194727  3649.388539   \n",
              "\n",
              "                                                  id  \n",
              "0  f71caddf249f66e667379b457a90b50e0357ad149091f8...  \n",
              "1  ff9896aae89b6d7f722283154b24b22e7e026779bc51db...  \n",
              "2  deeaecb262e812efc48b06cf3370d2ce60c98d2386590e...  \n",
              "3  97f70bd9bf47744752e30ea7fb7419f1d9c09bc02561b9...  \n",
              "4  20c17a9219bed40af357e22d51cdf8d42d665407f88c6f...  \n",
              "\n",
              "[5 rows x 57 columns]"
            ]
          },
          "metadata": {
            "tags": []
          },
          "execution_count": 3
        }
      ]
    },
    {
      "cell_type": "code",
      "metadata": {
        "scrolled": true,
        "id": "DGs_h-OEgRTo"
      },
      "source": [
        "df_dev.head()\n",
        "len(df_dev)"
      ],
      "execution_count": null,
      "outputs": []
    },
    {
      "cell_type": "code",
      "metadata": {
        "id": "-FX6-oU0gRTs"
      },
      "source": [
        "#DATA EXPLORATION PLOT\n",
        "path_dev=\"/home/caprino/Desktop/DataScienceLab/development\"\n",
        "length = np.array([])\n",
        "for folder in os.listdir(path_dev):\n",
        "    new_path = path_dev +\"/\"+folder\n",
        "    for file in os.listdir(new_path):\n",
        "        name = file.split(\".\")[0]\n",
        "        l=librosa.get_duration(filename= new_path +  '/' + name + '.wav')\n",
        "        length=np.append(length,l)\n",
        "        "
      ],
      "execution_count": null,
      "outputs": []
    },
    {
      "cell_type": "code",
      "metadata": {
        "id": "JZDuc60vgRTw"
      },
      "source": [
        "#LENGTH EXPLORATION ON EVAL\n",
        "patheval=\"/home/caprino/Desktop/DataScienceLab/evaluation\"\n",
        "eval_length=np.array([])\n",
        "for file_name in os.listdir(patheval):\n",
        "    name = file.split(\".\")[0]\n",
        "    l=librosa.get_duration(filename=\"/home/caprino/Desktop/DataScienceLab/evaluation/\"+file_name)\n",
        "    eval_length=np.append(eval_length,l)\n",
        "print(np.min(eval_length),np.max(eval_length),np.mean(eval_length))\n",
        "\n",
        "\n"
      ],
      "execution_count": null,
      "outputs": []
    },
    {
      "cell_type": "code",
      "metadata": {
        "scrolled": true,
        "id": "izlMJ7CEgRTz"
      },
      "source": [
        "print(np.min(length),np.max(length),np.mean(length))\n",
        "print(len(length))"
      ],
      "execution_count": null,
      "outputs": []
    },
    {
      "cell_type": "code",
      "metadata": {
        "id": "lxMeAvq5gRT2"
      },
      "source": [
        "#REMOVE USELSS DATA, NEVER RUN MORE THAN ONE!!!!!\n",
        "result=np.where(length>=0.45)\n",
        "\n",
        "merda=pd.Series(result)\n",
        "\n",
        "df_dev = df_dev.take(merda[0])\n",
        "\n",
        "df_dev.head()"
      ],
      "execution_count": null,
      "outputs": []
    },
    {
      "cell_type": "code",
      "metadata": {
        "id": "wD5ELptAgRT6"
      },
      "source": [
        "mg=df_dev.describe(percentiles=[.25,.5,.75])\n",
        "print(mg)\n",
        "boxplot_mfccs = df_dev.boxplot(column=['mfccs10','mfccs20','mfccs30','mfccs40' ]) \n",
        "#boxplot = df_dev.boxplot(column=['chroma1','chroma3','chroma9','chroma12' ]) \n",
        "print(boxplot_mfccs)"
      ],
      "execution_count": null,
      "outputs": []
    },
    {
      "cell_type": "code",
      "metadata": {
        "id": "72YguFRjgRT9"
      },
      "source": [
        "sns.set_theme(style=\"white\")\n",
        "sns.countplot('label', data=df_dev,palette=\"Set3\")\n",
        "plt.title('Label distribuition among the dataset', fontsize=14)\n",
        "plt.show()"
      ],
      "execution_count": null,
      "outputs": []
    },
    {
      "cell_type": "code",
      "metadata": {
        "id": "rJTXjcPpgRUC"
      },
      "source": [
        "#NOISE REDUCTION ON MFCCS\n",
        "\n",
        "\n",
        "data_test,sample_rate_test=librosa.load(\"/home/caprino/Desktop/DataScienceLab/cazzo.wav\")\n",
        "mfcc=librosa.feature.mfcc(data_test,n_mfcc=40)\n",
        "print(data_test)\n",
        "def reduce_noise_mfcc_down(y,mfcc,sr):\n",
        "\n",
        "    hop_length = 512\n",
        "\n",
        "    ## librosa\n",
        "    #mfcc = librosa.feature.mfcc(y=y, sr=sr, hop_length=hop_length, n_mfcc=40)\n",
        "    librosa.mel_to_hz(y)\n",
        "\n",
        "    ## mfcc\n",
        "    #mfcc = python_speech_features.base.mfcc(y)\n",
        "    #mfcc = python_speech_features.base.logfbank(y)\n",
        "    #mfcc = python_speech_features.base.lifter(mfcc)\n",
        "\n",
        "    sum_of_squares = []\n",
        "    index = -1\n",
        "    for r in mfcc:\n",
        "        sum_of_squares.append(0)\n",
        "        index = index + 1\n",
        "        for n in r:\n",
        "            sum_of_squares[index] = sum_of_squares[index] + n**2\n",
        "\n",
        "    strongest_frame = sum_of_squares.index(max(sum_of_squares))\n",
        "    hz = python_speech_features.base.mel2hz(mfcc[strongest_frame])\n",
        "\n",
        "    max_hz = max(hz)\n",
        "    min_hz = min(hz)\n",
        "\n",
        "    speech_booster = AudioEffectsChain().highshelf(frequency=min_hz*(-1)*1.2, gain=-12.0, slope=0.6).limiter(gain=8.0)\n",
        "    y_speach_boosted = speech_booster(y)\n",
        "\n",
        "    return (y_speach_boosted)\n",
        "\n",
        "y=reduce_noise_mfcc_down(data_test,mfcc,sample_rate_test)\n",
        "print(y)"
      ],
      "execution_count": null,
      "outputs": []
    },
    {
      "cell_type": "code",
      "metadata": {
        "id": "puSgmMFXgRUH"
      },
      "source": [
        "#COLLECT DENOISED DATA\n",
        "df_cleaned=pd.DataFrame()\n",
        "i=0\n",
        "pathdev=\"/home/caprino/Desktop/DataScienceLab/development\"\n",
        "for folder in os.listdir(pathdev):\n",
        "    print(pathdev)\n",
        "    new_path = \"/home/caprino/Desktop/DataScienceLab/development/\" + folder\n",
        "    \n",
        "    for file in os.listdir(new_path):\n",
        "        mfccs=df_dev.iloc[i].loc[mfcc_header]\n",
        "        print(mfccs)\n",
        "        name = file.split(\".\")[0]\n",
        "        y,sr=librosa.load(new_path + \"/\" + file)\n",
        "        print(new_path + \"/\" + file)\n",
        "        cleaned=reduce_noise_mfcc_down(y,mfccs,sr)\n",
        "        cleaned=cleaned.reshape(1,len(cleaned))\n",
        "        df_cleaned=df_cleaned.append(pd.DataFrame(cleaned))\n",
        "        i+=1\n"
      ],
      "execution_count": null,
      "outputs": []
    },
    {
      "cell_type": "code",
      "metadata": {
        "id": "muPs7f6MgRUK"
      },
      "source": [
        "df_cleaned.to_csv(\"/home/caprino/Desktop/DataScienceLab/csv/cleaned.csv\")"
      ],
      "execution_count": null,
      "outputs": []
    },
    {
      "cell_type": "code",
      "metadata": {
        "id": "-nrHuP2tgRUN"
      },
      "source": [
        "#NORMALIZE AMPLITUDE\n",
        "pathdev=\"/home/caprino/Desktop/DataScienceLab/development\"\n",
        "patheval=\"/home/caprino/Desktop/DataScienceLab/evaluation\"\n",
        "time=[None]*24449\n",
        "label=[None]*24449\n",
        "i=0\n",
        "SR=[None]*24449\n",
        "\n",
        "for folder in os.listdir(pathdev):\n",
        "    print(pathdev)\n",
        "    new_path = \"/home/caprino/Desktop/DataScienceLab/development/\" +folder\n",
        "    \n",
        "    for file in os.listdir(new_path):\n",
        "        name = file.split(\".\")[0]\n",
        "        sr, data = wavfile.read(new_path + \"/\" + file)\n",
        "        time[i]=data\n",
        "        label[i]=folder\n",
        "        SR[i]=sr\n",
        "        i+=1\n",
        "        \n"
      ],
      "execution_count": null,
      "outputs": []
    },
    {
      "cell_type": "code",
      "metadata": {
        "id": "VnvjcfxwgRUR"
      },
      "source": [
        "def plot_audio_samples(X):\n",
        "    lengths = []\n",
        "    fig, ax = plt.subplots(1,1,figsize=(12,8))\n",
        "\n",
        "    for idx in range(0, len(X), 10):\n",
        "        ax.plot(X[idx], alpha=0.5)\n",
        "        lengths.append(len(time[idx]))\n",
        "\n",
        "\n",
        "    # To show time on the x axes\n",
        "    ax.set_xticks(np.arange(0, max(lengths), 500))\n",
        "    ax.set_xticklabels([sample/SR for sample in np.arange(0, max(lengths), 500)])\n",
        "    return ax\n"
      ],
      "execution_count": null,
      "outputs": []
    },
    {
      "cell_type": "code",
      "metadata": {
        "id": "5FkCHL6igRUU"
      },
      "source": [
        "def normalize_data(X):\n",
        "    return [zscore(x) for x in X]\n",
        "\n",
        "time = normalize_data(time)\n",
        "\n"
      ],
      "execution_count": null,
      "outputs": []
    },
    {
      "cell_type": "code",
      "metadata": {
        "id": "GIotdEp2gRUX"
      },
      "source": [
        "ax = plot_audio_samples(time)\n",
        "ax.set_ylabel(\"Amplitude\")\n",
        "ax.set_xlabel(\"Time [s]\")\n",
        "ax.set_title(\"Multiple audio samples\")\n",
        "plt.show()"
      ],
      "execution_count": null,
      "outputs": []
    },
    {
      "cell_type": "code",
      "metadata": {
        "id": "5A-JcXomgRUb",
        "outputId": "6d7c56eb-826d-4a99-ef82-b10bd47a6612"
      },
      "source": [
        "#DATA EXPLORATION\n",
        "from sklearn.utils import shuffle\n",
        "df_dev=shuffle(df_dev)\n",
        "#df_dev = df_dev.sample(frac = 1)\n",
        "#outlier detection\n",
        "#clf = IsolationForest(random_state=42)\n",
        "lf = LocalOutlierFactor(n_neighbors=20)#,metric='cosine')\n",
        "#lf=EllipticEnvelope()\n",
        "X=lf.fit_predict(df_dev[headers_nolabel])\n",
        "res=np.where(X==1)\n",
        "to_keep=pd.Series(res)\n",
        "df_dev_noutliers=pd.DataFrame()\n",
        "df_dev_noutliers=df_dev.take(to_keep[0])\n",
        "print(len(df_dev_noutliers))\n",
        "\n",
        "#PREPROCESSING\n",
        "\n",
        "#STANDARDSCALER\n",
        "#n=StandardScaler()\n",
        "#n=RobustScaler()\n",
        "n=PowerTransformer()\n",
        "\n",
        "#scaled_dev = scaler.fit_transform(df_dev_noutliers[mfcc_chroma_header])\n",
        "scaled_dev = n.fit_transform(df_dev_noutliers[headers_nolabel])\n",
        "#scaled_eval=scaler.transform(df_eval[mfcc_chroma_header])\n",
        "scaled_eval = n.fit_transform(df_eval[headers_nolabel])\n",
        "#PCA\n",
        "#kbest = SelectKBest( k=45).fit(scaled_dev, df_dev_noutliers['label'])\n",
        "#pca_dev = kbest.transform(scaled_dev)\n",
        "#pca_eval = kbest.transform(scaled_eval)\n",
        "PCA_dev = PCA(.99).fit(scaled_dev)\n",
        "pca_dev = PCA_dev.transform( scaled_dev)\n",
        "pca_eval = PCA_dev.transform(scaled_eval)\n",
        "\n",
        "explained_pca = np.cumsum(PCA_dev.explained_variance_ratio_)\n",
        "#Plotting cumulative variance\n",
        "plt.plot(explained_pca)\n",
        "plt.title('Cumulative variance')\n",
        "plt.xlabel('Number of components')\n",
        "plt.ylabel('Variance explained')\n"
      ],
      "execution_count": null,
      "outputs": [
        {
          "output_type": "stream",
          "text": [
            "24216\n"
          ],
          "name": "stdout"
        },
        {
          "output_type": "execute_result",
          "data": {
            "text/plain": [
              "Text(0, 0.5, 'Variance explained')"
            ]
          },
          "metadata": {
            "tags": []
          },
          "execution_count": 17
        },
        {
          "output_type": "display_data",
          "data": {
            "image/png": "[encoded data removed]",
            "text/plain": [
              "<Figure size 432x288 with 1 Axes>"
            ]
          },
          "metadata": {
            "tags": [],
            "needs_background": "light"
          }
        }
      ]
    },
    {
      "cell_type": "code",
      "metadata": {
        "id": "KjubPzB6gRUf",
        "outputId": "92debc5c-1afb-45cd-95a0-ed21f251058b"
      },
      "source": [
        "#Random Forest Predict EVAL\n",
        "criterion=['gini', 'entropy']\n",
        "\n",
        "param_grid ={}\n",
        "X_train, X_test, y_train, y_test = train_test_split(pca_dev, df_dev_noutliers['label'], test_size=0.4, random_state=42)\n",
        "rf=RandomForestClassifier(max_features = 'sqrt')\n",
        "\n",
        "\n",
        "\n",
        "\n"
      ],
      "execution_count": null,
      "outputs": [
        {
          "output_type": "stream",
          "text": [
            "0.9301284205385242\n"
          ],
          "name": "stdout"
        }
      ]
    },
    {
      "cell_type": "code",
      "metadata": {
        "id": "c12FXGIygRUi"
      },
      "source": [
        "#SVM\n",
        "from sklearn import svm\n",
        "X_train, X_test, y_train, y_test = train_test_split(pca_dev, df_dev_noutliers['label'], test_size=0.2, random_state=42)\n",
        "svm_check =svm.SVC(kernel = 'rbf',random_state=42,C=10,gamma=0.1)\n",
        "print(metrics.f1_score(svm_check.fit(X_train, y_train).predict(X_test), y_test,average='macro'))\n",
        "print(svm_check.get_params())\n"
      ],
      "execution_count": null,
      "outputs": []
    },
    {
      "cell_type": "code",
      "metadata": {
        "id": "macZp-yxgRUl"
      },
      "source": [
        "def build_classifier(X_train, y_train, X_test, y_test, clf_to_evaluate, scores, param_grid, n_folds=3 ):\n",
        "    print(\"# Tuning hyper-parameters for %s\" % score)\n",
        "    print()\n",
        "\n",
        "    clf = GridSearchCV(clf_to_evaluate, param_grid, cv=n_folds,\n",
        "                       scoring=score, verbose=True, n_jobs=4, iid=False)\n",
        "    clf.fit(X_train, y_train)\n",
        "\n",
        "    print(\"Best parameters set found on development set:\")\n",
        "    print()\n",
        "    print(clf.best_params_)\n",
        "    print()\n",
        "    print(\"Grid scores on development set:\")\n",
        "    print()\n",
        "    means = clf.cv_results_['mean_test_score']\n",
        "    stds = clf.cv_results_['std_test_score']\n",
        "    for mean, std, params in zip(means, stds, clf.cv_results_['params']):\n",
        "        print(\"%0.3f (+/-%0.03f) for %r\"\n",
        "              % (mean, std * 2, params))\n",
        "    print()\n",
        "\n",
        "    print(\"Detailed classification report:\")\n",
        "    print()\n",
        "    print(\"The model is trained on the full development set.\")\n",
        "    print(\"The scores are computed on the full evaluation set.\")\n",
        "    print()\n",
        "    y_true, y_pred = y_test, clf.predict(X_test)\n",
        "    print(classification_report(y_true, y_pred))\n",
        "    print()\n",
        "    return clf"
      ],
      "execution_count": null,
      "outputs": []
    },
    {
      "cell_type": "code",
      "metadata": {
        "id": "0LOPoYvagRUo",
        "outputId": "e29e5217-ca3a-43a1-9c67-6c888f87b33e"
      },
      "source": [
        "from sklearn import svm\n",
        "score = 'f1_macro'\n",
        "C=[0.01,0.1,1,10,100]\n",
        "gamma=[0.001,0.01,0.1,0.0001]\n",
        "kernel='rbf'\n",
        "param_grid = {'C':C,\n",
        "               'gamma':gamma,\n",
        "    \n",
        "            }\n",
        "scores = 'f1_macro'\n",
        "X_train, X_test, y_train, y_test = train_test_split(pca_dev, df_dev_noutliers['label'], test_size=0.4, random_state=42)\n",
        "clf_to_evaluate=svm.SVC(kernel='rbf')\n",
        "\n",
        "best_clf=build_classifier(X_train, y_train, X_test, y_test, clf_to_evaluate, scores, param_grid, n_folds=5 )"
      ],
      "execution_count": null,
      "outputs": [
        {
          "output_type": "stream",
          "text": [
            "# Tuning hyper-parameters for f1_macro\n",
            "\n",
            "Fitting 5 folds for each of 20 candidates, totalling 100 fits\n"
          ],
          "name": "stdout"
        },
        {
          "output_type": "stream",
          "text": [
            "[Parallel(n_jobs=4)]: Using backend LokyBackend with 4 concurrent workers.\n",
            "[Parallel(n_jobs=4)]: Done  42 tasks      | elapsed:  5.0min\n",
            "[Parallel(n_jobs=4)]: Done 100 out of 100 | elapsed:  8.6min finished\n",
            "/home/caprino/.local/lib/python3.8/site-packages/sklearn/model_selection/_search.py:847: FutureWarning: The parameter 'iid' is deprecated in 0.22 and will be removed in 0.24.\n",
            "  warnings.warn(\n"
          ],
          "name": "stderr"
        },
        {
          "output_type": "stream",
          "text": [
            "Best parameters set found on development set:\n",
            "\n",
            "{'C': 10, 'gamma': 0.01}\n",
            "\n",
            "Grid scores on development set:\n",
            "\n",
            "0.138 (+/-0.010) for {'C': 0.01, 'gamma': 0.001}\n",
            "0.809 (+/-0.013) for {'C': 0.01, 'gamma': 0.01}\n",
            "0.030 (+/-0.005) for {'C': 0.01, 'gamma': 0.1}\n",
            "0.019 (+/-0.000) for {'C': 0.01, 'gamma': 0.0001}\n",
            "0.846 (+/-0.009) for {'C': 0.1, 'gamma': 0.001}\n",
            "0.943 (+/-0.009) for {'C': 0.1, 'gamma': 0.01}\n",
            "0.594 (+/-0.017) for {'C': 0.1, 'gamma': 0.1}\n",
            "0.190 (+/-0.016) for {'C': 0.1, 'gamma': 0.0001}\n",
            "0.940 (+/-0.005) for {'C': 1, 'gamma': 0.001}\n",
            "0.973 (+/-0.006) for {'C': 1, 'gamma': 0.01}\n",
            "0.926 (+/-0.007) for {'C': 1, 'gamma': 0.1}\n",
            "0.849 (+/-0.009) for {'C': 1, 'gamma': 0.0001}\n",
            "0.965 (+/-0.003) for {'C': 10, 'gamma': 0.001}\n",
            "0.978 (+/-0.005) for {'C': 10, 'gamma': 0.01}\n",
            "0.929 (+/-0.008) for {'C': 10, 'gamma': 0.1}\n",
            "0.937 (+/-0.006) for {'C': 10, 'gamma': 0.0001}\n",
            "0.969 (+/-0.004) for {'C': 100, 'gamma': 0.001}\n",
            "0.976 (+/-0.007) for {'C': 100, 'gamma': 0.01}\n",
            "0.929 (+/-0.008) for {'C': 100, 'gamma': 0.1}\n",
            "0.960 (+/-0.006) for {'C': 100, 'gamma': 0.0001}\n",
            "\n",
            "Detailed classification report:\n",
            "\n",
            "The model is trained on the full development set.\n",
            "The scores are computed on the full evaluation set.\n",
            "\n",
            "              precision    recall  f1-score   support\n",
            "\n",
            "           a       0.98      0.99      0.98       969\n",
            "           b       0.98      0.98      0.98       963\n",
            "           c       0.98      0.98      0.98      1032\n",
            "           d       0.95      0.98      0.97       913\n",
            "           e       0.97      0.97      0.97       979\n",
            "           f       0.97      0.99      0.98       945\n",
            "           g       0.99      0.97      0.98       964\n",
            "           h       0.98      0.98      0.98       999\n",
            "           i       0.99      0.99      0.99       912\n",
            "           j       0.98      0.95      0.96      1011\n",
            "\n",
            "    accuracy                           0.98      9687\n",
            "   macro avg       0.98      0.98      0.98      9687\n",
            "weighted avg       0.98      0.98      0.98      9687\n",
            "\n",
            "\n"
          ],
          "name": "stdout"
        }
      ]
    },
    {
      "cell_type": "code",
      "metadata": {
        "id": "Bsp-ogPvgRUs"
      },
      "source": [
        "#RESULT\n",
        "svm_eval=svm.SVC(C=10,gamma=0.01,kernel='rbf')\n",
        "svm_eval=svm_eval.fit(pca_dev,df_dev_noutliers['label'])\n",
        "result=svm_eval.predict(pca_eval)\n",
        "dfSVM=pd.DataFrame()\n",
        "\n",
        "dfSVM['Id']=df_eval['id']\n",
        "dfSVM['Predicted'] = result\n",
        "dfSVM[['Id','Predicted']].to_csv(\"/home/caprino/Desktop/DataScienceLab/csv/resul_18.csv\",index=False)\n",
        "print(dfSVM)"
      ],
      "execution_count": null,
      "outputs": []
    },
    {
      "cell_type": "code",
      "metadata": {
        "id": "Q-NTw8DMgRUv"
      },
      "source": [
        "#SOME PLOT\n",
        "#MFCCS\n",
        "import matplotlib.pyplot as plt\n",
        "\n",
        "file_name=\"/home/caprino/Desktop/DataScienceLab/development/a/0a11a5b8bb29773643555e1de0bbd3f5a3d6b53fb52fb765a7092e3f63109cf8.wav\"\n",
        "data,sr=librosa.load(file_name)\n",
        "mfccs=librosa.feature.mfcc(y=data,sr=sr,n_mfcc=40)\n",
        "fig, ax = plt.subplots()\n",
        "\n",
        "img = librosa.display.specshow(mfccs, x_axis='time', ax=ax)\n",
        "\n",
        "fig.colorbar(img, ax=ax)\n",
        "\n",
        "ax.set(title='MFCC')\n",
        "\n",
        "\n"
      ],
      "execution_count": null,
      "outputs": []
    },
    {
      "cell_type": "code",
      "metadata": {
        "id": "yCOMqb7IgRUy"
      },
      "source": [
        "#CHROMAGRAM\n",
        "file_name=\"/home/caprino/Desktop/DataScienceLab/development/a/0a11a5b8bb29773643555e1de0bbd3f5a3d6b53fb52fb765a7092e3f63109cf8.wav\"\n",
        "file_name=\"/home/caprino/Desktop/DataScienceLab/development/a/0a11a5b8bb29773643555e1de0bbd3f5a3d6b53fb52fb765a7092e3f63109cf8.wav\"\n",
        "data,sr=librosa.load(file_name)\n",
        "chromagram = librosa.feature.chroma_stft(data, sr = sr)\n",
        "\n",
        "fig, ax = plt.subplots() \n",
        "\n",
        "librosa.display.specshow(chromagram, y_axis='chroma', x_axis='time', ax=ax)\n",
        "\n",
        "ax.set(title='chroma_stft')\n",
        "\n",
        "ax.label_outer()\n",
        "\n",
        "\n",
        "\n",
        "\n",
        "fig.colorbar(img, ax=ax)\n"
      ],
      "execution_count": null,
      "outputs": []
    },
    {
      "cell_type": "code",
      "metadata": {
        "id": "RBt_xuJ9gRU1",
        "outputId": "9916fafb-7c8a-4409-e114-de829c0c74bc"
      },
      "source": [
        "from sklearn.svm import SVC\n",
        "X_train, X_test, y_train, y_test = train_test_split(pca_dev, df_dev_noutliers['label'], test_size=0.4, random_state=42)\n",
        "\n",
        "C=[0.1,1,10,100]\n",
        "Gamma=[0.01,0.1,1,10,100]\n",
        "acc=[]\n",
        "for c in C:\n",
        "    for g in Gamma:\n",
        "        svm=SVC(C=c,gamma=g,kernel='rbf')\n",
        "        model=svm.fit(X_train,y_train)\n",
        "        pred=svm.predict(X_test)\n",
        "        accuracy=metrics.f1_score(y_test,pred,average='macro')\n",
        "        acc.append(accuracy)\n",
        "        stringa=\"C=\"+str(c)+\",GAMMA=\"+str(g)+\",accuracy_score=\"+str(accuracy)\n",
        "        #plot_decision_boundaries(X_train,Y_train,model,stringa)\n",
        "\n",
        "\n",
        "acc = np.array(acc).reshape(len(C), len(Gamma))\n",
        "\n",
        "plt.figure(figsize=(8, 6))\n",
        "plt.subplots_adjust(left=.2, right=0.95, bottom=0.15, top=0.95)\n",
        "plt.imshow(acc, interpolation='nearest', cmap='cubehelix_r')\n",
        "plt.xlabel('Gamma')\n",
        "plt.ylabel('C')\n",
        "plt.colorbar()\n",
        "plt.xticks(np.arange(len(Gamma)), Gamma, rotation=45)\n",
        "plt.yticks(np.arange(len(C)), C)\n",
        "plt.title('Validation accuracy')\n",
        "plt.show()\n",
        "acc  \n",
        "        "
      ],
      "execution_count": null,
      "outputs": [
        {
          "output_type": "display_data",
          "data": {
            "image/png": "[encoded data removed]",
            "text/plain": [
              "<Figure size 576x432 with 2 Axes>"
            ]
          },
          "metadata": {
            "tags": [],
            "needs_background": "light"
          }
        },
        {
          "output_type": "execute_result",
          "data": {
            "text/plain": [
              "array([[0.94480492, 0.68416065, 0.01810159, 0.01810159, 0.01810159],\n",
              "       [0.97254914, 0.93268504, 0.09316753, 0.02006755, 0.02006755],\n",
              "       [0.97731565, 0.934958  , 0.10253918, 0.02006755, 0.02006755],\n",
              "       [0.97545667, 0.934958  , 0.10253918, 0.02006755, 0.02006755]])"
            ]
          },
          "metadata": {
            "tags": []
          },
          "execution_count": 34
        }
      ]
    },
    {
      "cell_type": "code",
      "metadata": {
        "id": "c5rfKUstgRU4",
        "outputId": "61026688-c994-49df-c937-8ea67fbdc1c7"
      },
      "source": [
        "acc = np.array(acc).reshape(len(C), len(Gamma))\n",
        "\n",
        "plt.figure(figsize=(8, 6))\n",
        "plt.subplots_adjust(left=.2, right=0.95, bottom=0.15, top=0.95)\n",
        "plt.imshow(acc, interpolation='nearest',cmap='Greens')\n",
        "plt.xlabel('Gamma')\n",
        "plt.ylabel('C')\n",
        "plt.colorbar()\n",
        "plt.xticks(np.arange(len(Gamma)), Gamma, rotation=45)\n",
        "plt.yticks(np.arange(len(C)), C)\n",
        "plt.title('Validation accuracy')\n",
        "plt.show()\n",
        "acc  "
      ],
      "execution_count": null,
      "outputs": [
        {
          "output_type": "display_data",
          "data": {
            "image/png": "[encoded data removed]",
            "text/plain": [
              "<Figure size 576x432 with 2 Axes>"
            ]
          },
          "metadata": {
            "tags": [],
            "needs_background": "light"
          }
        },
        {
          "output_type": "execute_result",
          "data": {
            "text/plain": [
              "array([[0.94480492, 0.68416065, 0.01810159, 0.01810159, 0.01810159],\n",
              "       [0.97254914, 0.93268504, 0.09316753, 0.02006755, 0.02006755],\n",
              "       [0.97731565, 0.934958  , 0.10253918, 0.02006755, 0.02006755],\n",
              "       [0.97545667, 0.934958  , 0.10253918, 0.02006755, 0.02006755]])"
            ]
          },
          "metadata": {
            "tags": []
          },
          "execution_count": 45
        }
      ]
    },
    {
      "cell_type": "code",
      "metadata": {
        "id": "1klWHWGrgRU7"
      },
      "source": [
        "\n",
        "def plot_decision_boundaries(X_train,Y_train,model,stringa):\n",
        "\n",
        "    h=0.07\n",
        "    cmap_light = ListedColormap(['gold', 'mediumturquoise', 'salmon'])\n",
        "\n",
        "    cmap_bold = ListedColormap(['orange', 'teal', 'orangered'])\n",
        "\n",
        "    x_min, x_max = X_train[:, 0].min() - 1, X_train[:, 0].max() + 1\n",
        "    y_min, y_max = X_train[:, 1].min() - 1, X_train[:, 1].max() + 1\n",
        "    xx, yy = np.meshgrid(np.arange(x_min, x_max, h),np.arange(y_min, y_max, h))\n",
        "    Z = model.predict(np.c_[xx.ravel(), yy.ravel()])\n",
        "    Z = Z.reshape(xx.shape)\n",
        "    plt.figure(figsize=(7,7))\n",
        "    plt.pcolormesh(xx, yy, Z, cmap=cmap_light)\n",
        "\n",
        "    # Plot also the training points\n",
        "    plt.scatter(X_train[:, 0], X_train[:, 1], c=Y_train, cmap=cmap_bold,\n",
        "                edgecolor='k', s=70)\n",
        "    plt.xlim(xx.min(), xx.max())\n",
        "    plt.ylim(yy.min(), yy.max())\n",
        "    plt.title(stringa)\n",
        "\n",
        "    plt.show()"
      ],
      "execution_count": null,
      "outputs": []
    },
    {
      "cell_type": "code",
      "metadata": {
        "id": "t6Hps6NZgRU9"
      },
      "source": [
        "#PLOT CONFUSION MATRIX\n",
        "fig, ax = plt.subplots(figsize=(15, 15))\n",
        "plot_confusion_matrix(clf, X_test, y_test, cmap = plt.cm.Greys, ax = ax) \n",
        "plt.show()\n"
      ],
      "execution_count": null,
      "outputs": []
    }
  ]
}